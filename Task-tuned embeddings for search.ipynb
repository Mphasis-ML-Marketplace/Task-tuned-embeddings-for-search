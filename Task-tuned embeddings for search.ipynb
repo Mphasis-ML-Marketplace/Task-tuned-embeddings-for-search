{
 "cells": [
  {
   "cell_type": "markdown",
   "id": "419ac411",
   "metadata": {},
   "source": [
    "## GenAI: Task-tuned embeddings for search\n",
    "\n",
    "Solution enhances the search for specific business processes by accounting for language and intents of different user roles in the domain.\n",
    "\n",
    "This sample notebook shows you how to execute GenAI: Task-tuned embeddings for search Algorithm from AWS Marketplace \n",
    "\n",
    "> **Note**: This is a reference notebook and it cannot run unless you make changes suggested in the notebook.\n",
    "\n",
    "#### Pre-requisites:\n",
    "1. **Note**: This notebook contains elements which render correctly in Jupyter interface. Open this notebook from an Amazon SageMaker Notebook Instance or Amazon SageMaker Studio.\n",
    "1. Ensure that IAM role used has **AmazonSageMakerFullAccess**\n",
    "1. Some hands-on experience using [Amazon SageMaker](https://aws.amazon.com/sagemaker/).\n",
    "1. To use this algorithm successfully, ensure that:\n",
    "    1. Either your IAM role has these three permissions and you have authority to make AWS Marketplace subscriptions in the AWS account used: \n",
    "        1. **aws-marketplace:ViewSubscriptions**\n",
    "        1. **aws-marketplace:Unsubscribe**\n",
    "        1. **aws-marketplace:Subscribe**  \n",
    "    2. or your AWS account has a subscription to For Seller to update: Task-tuned embeddings for search. \n",
    "\n",
    "#### Contents:\n",
    "1. [Subscribe to the algorithm](#1.-Subscribe-to-the-algorithm)\n",
    "1. [Prepare dataset](#2.-Prepare-dataset)\n",
    "\t1. [Dataset format expected by the algorithm](#A.-Dataset-format-expected-by-the-algorithm)\n",
    "\t1. [Configure dataset](#B.-Configure-dataset)\n",
    "\t1. [Upload datasets to Amazon S3](#C.-Upload-datasets-to-Amazon-S3)\n",
    "1. [Execute optimization model](#3.-Execute-optimization-model)\n",
    "\t1. [Set up environment](#3.1-Set-up-environment)\n",
    "\t1. [Execute model](#3.2-Execute-model)\n",
    "    1. [Visualize Output](#3.3-Inspect-the-Output-in-S3)\n",
    "1. [Clean-up](#4.-Clean-up)\n",
    "\t1. [Unsubscribe to the listing (optional)](#Unsubscribe-to-the-listing-(optional))\n",
    "\n",
    "\n",
    "#### Usage instructions\n",
    "You can run this notebook one cell at a time (By using Shift+Enter for running a cell)."
   ]
  },
  {
   "cell_type": "markdown",
   "id": "5414145a",
   "metadata": {},
   "source": [
    "### 1. Subscribe to the algorithm"
   ]
  },
  {
   "cell_type": "markdown",
   "id": "cc00d6d4",
   "metadata": {},
   "source": [
    "To subscribe to the algorithm:\n",
    "1. Open the algorithm listing page **GenAI: Task-tuned embeddings for search**\n",
    "1. On the AWS Marketplace listing,  click on **Continue to subscribe** button.\n",
    "1. On the **Subscribe to this software** page, review and click on **\"Accept Offer\"** if you agree with EULA, pricing, and support terms. \n",
    "1. Once you click on **Continue to configuration button** and then choose a **region**, you will see a **Product Arn**. This is the algorithm ARN that you need to specify while training a custom ML model. Copy the ARN corresponding to your region and specify the same in the following cell."
   ]
  },
  {
   "cell_type": "code",
   "execution_count": 55,
   "id": "b298a38b",
   "metadata": {},
   "outputs": [],
   "source": [
    "algo_arn = \"put your arn here\""
   ]
  },
  {
   "cell_type": "markdown",
   "id": "15f8eee6",
   "metadata": {},
   "source": [
    "### 2. Prepare dataset"
   ]
  },
  {
   "cell_type": "code",
   "execution_count": 21,
   "id": "91ffe680",
   "metadata": {},
   "outputs": [],
   "source": [
    "import os\n",
    "import json \n",
    "import uuid\n",
    "import boto3\n",
    "import pickle\n",
    "import base64\n",
    "import tarfile\n",
    "from pprint import pprint\n",
    "from PIL import Image\n",
    "\n",
    "import numpy as np\n",
    "import pandas as pd\n",
    "\n",
    "import urllib.request\n",
    "from urllib.parse import urlparse\n",
    "\n",
    "import sagemaker as sage\n",
    "from sagemaker import ModelPackage\n",
    "from sagemaker import get_execution_role"
   ]
  },
  {
   "cell_type": "markdown",
   "id": "9fed08aa",
   "metadata": {},
   "source": [
    "#### A. Dataset format expected by the algorithm"
   ]
  },
  {
   "cell_type": "markdown",
   "id": "f0347bd3",
   "metadata": {},
   "source": [
    "The algorithm requires data in the format as described for best results:\n",
    "* Input File name should be Input.zip\n",
    "* The input data files must contain one train_doc folder with all raw docs and one config.json file.\n",
    "* For detailed instructions, please refer sample notebook and algorithm input details"
   ]
  },
  {
   "cell_type": "markdown",
   "id": "135d44ca",
   "metadata": {},
   "source": [
    "#### B. Configure dataset"
   ]
  },
  {
   "cell_type": "code",
   "execution_count": 22,
   "id": "0c16b7c3",
   "metadata": {},
   "outputs": [],
   "source": [
    "training_dataset=\"input/Input.zip\""
   ]
  },
  {
   "cell_type": "markdown",
   "id": "e706d21a",
   "metadata": {},
   "source": [
    "#### C. Upload datasets to Amazon S3"
   ]
  },
  {
   "cell_type": "code",
   "execution_count": 23,
   "id": "c9d5e561",
   "metadata": {},
   "outputs": [],
   "source": [
    "role = get_execution_role()"
   ]
  },
  {
   "cell_type": "code",
   "execution_count": 24,
   "id": "e55724b2",
   "metadata": {},
   "outputs": [
    {
     "data": {
      "text/plain": [
       "'sagemaker-us-east-2-786796469737'"
      ]
     },
     "execution_count": 24,
     "metadata": {},
     "output_type": "execute_result"
    }
   ],
   "source": [
    "sagemaker_session = sage.Session()\n",
    "\n",
    "bucket = sagemaker_session.default_bucket()\n",
    "bucket"
   ]
  },
  {
   "cell_type": "code",
   "execution_count": 25,
   "id": "5a93f98a",
   "metadata": {},
   "outputs": [
    {
     "name": "stdout",
     "output_type": "stream",
     "text": [
      "Training input uploaded to s3://sagemaker-us-east-2-786796469737/task-tuned-embedding-for-search/training-input-data\n"
     ]
    }
   ],
   "source": [
    "# training input location\n",
    "common_prefix = \"task-tuned-embedding-for-search\"\n",
    "training_input_prefix = common_prefix + \"/training-input-data\"\n",
    "TRAINING_WORKDIR = \"input\" #Input directory in Jupyter Server\n",
    "training_input = sagemaker_session.upload_data(TRAINING_WORKDIR, key_prefix=training_input_prefix) #uploads data from jupyter server to S3\n",
    "print(\"Training input uploaded to \" + training_input)"
   ]
  },
  {
   "cell_type": "markdown",
   "id": "fba8b49a",
   "metadata": {},
   "source": [
    "## 3. Execute the training process"
   ]
  },
  {
   "cell_type": "markdown",
   "id": "a619caf0",
   "metadata": {},
   "source": [
    "Now that dataset is available in an accessible Amazon S3 bucket, we are ready to execute a training pipeline to get clean sentiment class labels using clean-sentiment-classification-labels Algorithm. "
   ]
  },
  {
   "cell_type": "markdown",
   "id": "80c95826",
   "metadata": {},
   "source": [
    "### 3.1 Set up environment"
   ]
  },
  {
   "cell_type": "code",
   "execution_count": 26,
   "id": "2095480d",
   "metadata": {},
   "outputs": [],
   "source": [
    "output_location = 's3://{}/task-tuned-embedding-for-search/{}'.format(bucket, 'Output')"
   ]
  },
  {
   "cell_type": "markdown",
   "id": "cee5d8a3",
   "metadata": {},
   "source": [
    "### 3.2 Execute model"
   ]
  },
  {
   "cell_type": "markdown",
   "id": "a416429b",
   "metadata": {},
   "source": [
    "For information on creating an `Estimator` object, see [documentation](https://sagemaker.readthedocs.io/en/stable/api/training/estimators.html)"
   ]
  },
  {
   "cell_type": "code",
   "execution_count": 30,
   "id": "ffaec3fa",
   "metadata": {},
   "outputs": [],
   "source": [
    "training_instance_type=\"ml.g4dn.2xlarge\""
   ]
  },
  {
   "cell_type": "code",
   "execution_count": 31,
   "id": "e3f6b1a6",
   "metadata": {
    "scrolled": true
   },
   "outputs": [
    {
     "name": "stdout",
     "output_type": "stream",
     "text": [
      "2024-07-10 07:44:58 Starting - Starting the training job...\n",
      "2024-07-10 07:45:25 Starting - Preparing the instances for trainingProfilerReport-1720597497: InProgress\n",
      "...\n",
      "2024-07-10 07:45:51 Downloading - Downloading the training image............\n",
      "2024-07-10 07:47:45 Training - Training image download completed. Training in progress.\u001b[34m==========\u001b[0m\n",
      "\u001b[34m== CUDA ==\u001b[0m\n",
      "\u001b[34m==========\u001b[0m\n",
      "\u001b[34mCUDA Version 12.1.1\u001b[0m\n",
      "\u001b[34mContainer image Copyright (c) 2016-2023, NVIDIA CORPORATION & AFFILIATES. All rights reserved.\u001b[0m\n",
      "\u001b[34mThis container image and its contents are governed by the NVIDIA Deep Learning Container License.\u001b[0m\n",
      "\u001b[34mBy pulling and using the container, you accept the terms and conditions of this license:\u001b[0m\n",
      "\u001b[34mhttps://developer.nvidia.com/ngc/nvidia-deep-learning-container-license\u001b[0m\n",
      "\u001b[34mA copy of this license is made available in this container at /NGC-DL-CONTAINER-LICENSE for your convenience.\u001b[0m\n",
      "\u001b[34m/opt/ml/input/data/training/Input.zip\u001b[0m\n",
      "\u001b[34mfile name /opt/ml/input/data/training/Input.zip\u001b[0m\n",
      "\u001b[34mcurrent working directory /opt/program\u001b[0m\n",
      "\u001b[34mall files in opt ml ['input', 'model', 'output', 'sagemaker']\u001b[0m\n",
      "\u001b[34mall files inside input ['config', 'data']\u001b[0m\n",
      "\u001b[34mall files inside training ['Input.zip']\u001b[0m\n",
      "\u001b[34mall files in current working directory ['.ipynb_checkpoints', '__pycache__', 'model', 'output', 'output.xlsx', 'serve', 'synth_q.py', 'test.py', 'train']\u001b[0m\n",
      "\u001b[34mfiles inside model []\u001b[0m\n",
      "\u001b[34mfinetuned model path /opt/ml/model\u001b[0m\n",
      "\u001b[34mall files are going in the generate synth questions function\u001b[0m\n",
      "\u001b[34mthe path to the input document /opt/ml/input/data/training/Input/train_doc/ADAMSGOLFINC_03_21_2005-EX-10.17-ENDORSEMENT AGREEMENT.txt\u001b[0m\n",
      "\u001b[34mpre-processing started\u001b[0m\n",
      "\u001b[34mtext extracted for the document [<unstructured.documents.elements.Title object at 0x7f36b8b59100>, <unstructured.documents.elements.Title object at 0x7f36b8b59f70>, <unstructured.documents.elements.Title object at 0x7f36b8b59fd0>, <unstructured.documents.elements.Title object at 0x7f36b8b59ee0>, <unstructured.documents.elements.Title object at 0x7f36b8b592e0>, <unstructured.documents.elements.Title object at 0x7f36b8b593d0>, <unstructured.documents.elements.Text object at 0x7f36b8b59e50>, <unstructured.documents.elements.Title object at 0x7f36b8b590d0>, <unstructured.documents.elements.NarrativeText object at 0x7f36b8b59550>, <unstructured.documents.elements.Title object at 0x7f36b8b596d0>, <unstructured.documents.elements.NarrativeText object at 0x7f36b8b597c0>, <unstructured.documents.elements.NarrativeText object at 0x7f36b8b598b0>, <unstructured.documents.elements.Title object at 0x7f36b7890460>, <unstructured.documents.elements.ListItem object at 0x7f36b7890820>, <unstructured.documents.elements.NarrativeText object at 0x7f36b78909d0>, <unstructured.documents.elements.ListItem object at 0x7f36b7890a00>, <unstructured.documents.elements.NarrativeText object at 0x7f36b7890bb0>, <unstructured.documents.elements.NarrativeText object at 0x7f36b7890700>, <unstructured.documents.elements.NarrativeText object at 0x7f36b7890ac0>, <unstructured.documents.elements.NarrativeText object at 0x7f36b7890ca0>, <unstructured.documents.elements.ListItem object at 0x7f36b7890e80>, <unstructured.documents.elements.NarrativeText object at 0x7f36b8b591f0>, <unstructured.documents.elements.Title object at 0x7f36b7890fa0>, <unstructured.documents.elements.ListItem object at 0x7f36b7890dc0>, <unstructured.documents.elements.NarrativeText object at 0x7f36b7890eb0>, <unstructured.documents.elements.NarrativeText object at 0x7f36b68e3430>, <unstructured.documents.elements.Text object at 0x7f36b68e3550>, <unstructured.documents.elements.NarrativeText object at 0x7f36b68e3340>, <unstructured.documents.elements.NarrativeText object at 0x7f36b68e3670>, <unstructured.documents.elements.NarrativeText object at 0x7f36b68e3850>, <unstructured.documents.elements.ListItem object at 0x7f36b68e3880>, <unstructured.documents.elements.NarrativeText object at 0x7f36b68e3790>, <unstructured.documents.elements.ListItem object at 0x7f36b68e35b0>, <unstructured.documents.elements.NarrativeText object at 0x7f36b68e3a60>, <unstructured.documents.elements.ListItem object at 0x7f36b68e3970>, <unstructured.documents.elements.NarrativeText object at 0x7f36b68e3d00>, <unstructured.documents.elements.NarrativeText object at 0x7f36b68e3e50>, <unstructured.documents.elements.ListItem object at 0x7f36b68e3e20>, <unstructured.documents.elements.NarrativeText object at 0x7f36b68e3f10>, <unstructured.documents.elements.NarrativeText object at 0x7f36b68e3f40>, <unstructured.documents.elements.ListItem object at 0x7f36b6879250>, <unstructured.documents.elements.NarrativeText object at 0x7f36b6879040>, <unstructured.documents.elements.NarrativeText object at 0x7f36b6879340>, <unstructured.documents.elements.ListItem object at 0x7f36b6879310>, <unstructured.documents.elements.NarrativeText object at 0x7f36b68796d0>, <unstructured.documents.elements.NarrativeText object at 0x7f36b6879520>, <unstructured.documents.elements.ListItem object at 0x7f36b6879610>, <unstructured.documents.elements.NarrativeText object at 0x7f36b68795e0>, <unstructured.documents.elements.NarrativeText object at 0x7f36b68798e0>, <unstructured.documents.elements.ListItem object at 0x7f36b6879a90>, <unstructured.documents.elements.NarrativeText object at 0x7f36b6879ac0>, <unstructured.documents.elements.NarrativeText object at 0x7f36b6879d60>, <unstructured.documents.elements.NarrativeText object at 0x7f36b68799d0>, <unstructured.documents.elements.NarrativeText object at 0x7f36b6879b80>, <unstructured.documents.elements.ListItem object at 0x7f36b6879e50>, <unstructured.documents.elements.NarrativeText object at 0x7f36b6879bb0>, <unstructured.documents.elements.ListItem object at 0x7f36b6879ca0>, <unstructured.documents.elements.NarrativeText object at 0x7f36b6892340>, <unstructured.documents.elements.ListItem object at 0x7f36b6892190>, <unstructured.documents.elements.NarrativeText object at 0x7f36b6892520>, <unstructured.documents.elements.ListItem object at 0x7f36b6892160>, <unstructured.documents.elements.NarrativeText object at 0x7f36b6892430>, <unstructured.documents.elements.Title object at 0x7f36b6892610>, <unstructured.documents.elements.ListItem object at 0x7f36b68927f0>, <unstructured.documents.elements.NarrativeText object at 0x7f36b6892820>, <unstructured.documents.elements.NarrativeText object at 0x7f36b6892ac0>, <unstructured.documents.elements.NarrativeText object at 0x7f36b6892730>, <unstructured.documents.elements.ListItem object at 0x7f36b68928e0>, <unstructured.documents.elements.NarrativeText object at 0x7f36b6892910>, <unstructured.documents.elements.ListItem object at 0x7f36b6892ca0>, <unstructured.documents.elements.NarrativeText object at 0x7f36b6892dc0>, <unstructured.documents.elements.ListItem object at 0x7f36b6892eb0>, <unstructured.documents.elements.ListItem object at 0x7f36b6892f70>, <unstructured.documents.elements.ListItem object at 0x7f36b6892fa0>, <unstructured.documents.elements.Text object at 0x7f36b68a83a0>, <unstructured.documents.elements.Text object at 0x7f36b68a8490>, <unstructured.documents.elements.Text object at 0x7f36b68a8580>, <unstructured.documents.elements.Text object at 0x7f36b68a8670>, <unstructured.documents.elements.Text object at 0x7f36b68a8760>, <unstructured.documents.elements.Text object at 0x7f36b68a8850>, <unstructured.documents.elements.NarrativeText object at 0x7f36b68a8940>, <unstructured.documents.elements.Text object at 0x7f36b68a8a30>, <unstructured.documents.elements.Text object at 0x7f36b68a8b50>, <unstructured.documents.elements.Text object at 0x7f36b68a8c40>, <unstructured.documents.elements.Text object at 0x7f36b68a8d30>, <unstructured.documents.elements.Text object at 0x7f36b68a8e20>, <unstructured.documents.elements.Text object at 0x7f36b68a82b0>, <unstructured.documents.elements.NarrativeText object at 0x7f36b68a8fd0>, <unstructured.documents.elements.NarrativeText object at 0x7f36b68a8280>, <unstructured.documents.elements.NarrativeText object at 0x7f36b68a8f10>, <unstructured.documents.elements.NarrativeText object at 0x7f36b68a81c0>, <unstructured.documents.elements.ListItem object at 0x7f36b68af100>, <unstructured.documents.elements.NarrativeText object at 0x7f36b68af4c0>, <unstructured.documents.elements.Title object at 0x7f36b68af310>, <unstructured.documents.elements.ListItem object at 0x7f36b68af5b0>, <unstructured.documents.elements.NarrativeText object at 0x7f36b68af610>, <unstructured.documents.elements.ListItem object at 0x7f36b68af7c0>, <unstructured.documents.elements.NarrativeText object at 0x7f36b68af6d0>, <unstructured.documents.elements.ListItem object at 0x7f36b68af8b0>, <unstructured.documents.elements.NarrativeText object at 0x7f36b68afb80>, <unstructured.documents.elements.NarrativeText object at 0x7f36b68afca0>, <unstructured.documents.elements.Title object at 0x7f36b68af9d0>, <unstructured.documents.elements.ListItem object at 0x7f36b68afd90>, <unstructured.documents.elements.NarrativeText object at 0x7f36b68af7f0>, <unstructured.documents.elements.ListItem object at 0x7f36b68afe50>, <unstructured.documents.elements.NarrativeText object at 0x7f36b68afe80>, <unstructured.documents.elements.ListItem object at 0x7f36b68aff70>, <unstructured.documents.elements.NarrativeText object at 0x7f36b6844160>, <unstructured.documents.elements.ListItem object at 0x7f36b6844280>, <unstructured.documents.elements.NarrativeText object at 0x7f36b6844520>, <unstructured.documents.elements.NarrativeText object at 0x7f36b6844370>, <unstructured.documents.elements.ListItem object at 0x7f36b6844460>, <unstructured.documents.elements.NarrativeText object at 0x7f36b68447f0>, <unstructured.documents.elements.ListItem object at 0x7f36b6844610>, <unstructured.documents.elements.NarrativeText object at 0x7f36b68449d0>, <unstructured.documents.elements.ListItem object at 0x7f36b6844430>, <unstructured.documents.elements.NarrativeText object at 0x7f36b68448e0>, <unstructured.documents.elements.ListItem object at 0x7f36b6844af0>, <unstructured.documents.elements.NarrativeText object at 0x7f36b6844d90>, <unstructured.documents.elements.ListItem object at 0x7f36b6844730>, <unstructured.documents.elements.NarrativeText object at 0x7f36b6844e80>, <unstructured.documents.elements.ListItem object at 0x7f36b6844cd0>, <unstructured.documents.elements.NarrativeText object at 0x7f36b6844f70>, <unstructured.documents.elements.ListItem object at 0x7f36b6844fa0>, <unstructured.documents.elements.NarrativeText object at 0x7f36b68553a0>, <unstructured.documents.elements.Text object at 0x7f36b6855490>, <unstructured.documents.elements.NarrativeText object at 0x7f36b6855580>, <unstructured.documents.elements.NarrativeText object at 0x7f36b68556a0>, <unstructured.documents.elements.Text object at 0x7f36b6855760>, <unstructured.documents.elements.NarrativeText object at 0x7f36b6855850>, <unstructured.documents.elements.Text object at 0x7f36b68551c0>, <unstructured.documents.elements.NarrativeText object at 0x7f36b6855a30>, <unstructured.documents.elements.Text object at 0x7f36b6855b20>, <unstructured.documents.elements.Title object at 0x7f36b6855940>, <unstructured.documents.elements.Text object at 0x7f36b6855d30>, <unstructured.documents.elements.Title object at 0x7f36b6855e20>, <unstructured.documents.elements.Title object at 0x7f36b6855df0>, <unstructured.documents.elements.Text object at 0x7f36b6855ee0>]\u001b[0m\n",
      "\u001b[34mchunks created\u001b[0m\n",
      "\u001b[34mtext length 7401\u001b[0m\n",
      "\u001b[34mlist of questions created\u001b[0m\n",
      "\u001b[34mtext length 7570\u001b[0m\n",
      "\u001b[34mlist of questions created\u001b[0m\n",
      "\u001b[34mtext length 7770\u001b[0m\n",
      "\u001b[34mlist of questions created\u001b[0m\n",
      "\u001b[34mtext length 374\u001b[0m\n",
      "\u001b[34mlist of questions created\u001b[0m\n",
      "\u001b[34mThe created dataframe                                                chunks  ...                                          file_name\u001b[0m\n",
      "\u001b[34m0   redacted copy confidential treatment requested...  ...  ADAMSGOLFINC_03_21_2005-EX-10.17-ENDORSEMENT A...\u001b[0m\n",
      "\u001b[34m1   redacted copy confidential treatment requested...  ...  ADAMSGOLFINC_03_21_2005-EX-10.17-ENDORSEMENT A...\u001b[0m\n",
      "\u001b[34m2   redacted copy confidential treatment requested...  ...  ADAMSGOLFINC_03_21_2005-EX-10.17-ENDORSEMENT A...\u001b[0m\n",
      "\u001b[34m3   redacted copy confidential treatment requested...  ...  ADAMSGOLFINC_03_21_2005-EX-10.17-ENDORSEMENT A...\u001b[0m\n",
      "\u001b[34m4   current adams golf lines the development of ne...  ...  ADAMSGOLFINC_03_21_2005-EX-10.17-ENDORSEMENT A...\u001b[0m\n",
      "\u001b[34m5   current adams golf lines the development of ne...  ...  ADAMSGOLFINC_03_21_2005-EX-10.17-ENDORSEMENT A...\u001b[0m\n",
      "\u001b[34m6   current adams golf lines the development of ne...  ...  ADAMSGOLFINC_03_21_2005-EX-10.17-ENDORSEMENT A...\u001b[0m\n",
      "\u001b[34m7   current adams golf lines the development of ne...  ...  ADAMSGOLFINC_03_21_2005-EX-10.17-ENDORSEMENT A...\u001b[0m\n",
      "\u001b[34m8   or shall be deemed approved adams golf agrees ...  ...  ADAMSGOLFINC_03_21_2005-EX-10.17-ENDORSEMENT A...\u001b[0m\n",
      "\u001b[34m9   or shall be deemed approved adams golf agrees ...  ...  ADAMSGOLFINC_03_21_2005-EX-10.17-ENDORSEMENT A...\u001b[0m\n",
      "\u001b[34m10  or shall be deemed approved adams golf agrees ...  ...  ADAMSGOLFINC_03_21_2005-EX-10.17-ENDORSEMENT A...\u001b[0m\n",
      "\u001b[34m11  or shall be deemed approved adams golf agrees ...  ...  ADAMSGOLFINC_03_21_2005-EX-10.17-ENDORSEMENT A...\u001b[0m\n",
      "\u001b[34m12  r address as is given in writing by adams golf...  ...  ADAMSGOLFINC_03_21_2005-EX-10.17-ENDORSEMENT A...\u001b[0m\n",
      "\u001b[34m13  r address as is given in writing by adams golf...  ...  ADAMSGOLFINC_03_21_2005-EX-10.17-ENDORSEMENT A...\u001b[0m\n",
      "\u001b[34m14  r address as is given in writing by adams golf...  ...  ADAMSGOLFINC_03_21_2005-EX-10.17-ENDORSEMENT A...\u001b[0m\n",
      "\u001b[34m15  r address as is given in writing by adams golf...  ...  ADAMSGOLFINC_03_21_2005-EX-10.17-ENDORSEMENT A...\u001b[0m\n",
      "\u001b[34m[16 rows x 4 columns]\u001b[0m\n",
      "\u001b[34mSynthetic questions generated from the documents\u001b[0m\n",
      "\u001b[34mthe df is coming inside training pipeline function\u001b[0m\n",
      "\u001b[34mthe file is coming inside prepare_data\u001b[0m\n",
      "\u001b[34mthe file is getting copied\u001b[0m\n",
      "\u001b[34mdropping empty values\u001b[0m\n",
      "\u001b[34mindex reset\u001b[0m\n",
      "\u001b[34mcopying dataframe\u001b[0m\n",
      "\u001b[34mextracting chunks and questions\u001b[0m\n",
      "\u001b[34mrename the dataframe\u001b[0m\n",
      "\u001b[34mextracting chunks and keypharses from dataframe\u001b[0m\n",
      "\u001b[34mrenaming columns\u001b[0m\n",
      "\u001b[34mconcating both dataframe\u001b[0m\n",
      "\u001b[34mapplying lambda function to add a string\u001b[0m\n",
      "\u001b[34mconverting quesitons into string\u001b[0m\n",
      "\u001b[34mconverting answers to string\u001b[0m\n",
      "\u001b[34mgiving ids to dataframe\u001b[0m\n",
      "\u001b[34msetting ids as string\u001b[0m\n",
      "\u001b[34msetting node ids\u001b[0m\n",
      "\u001b[34msplitting rows in tow halfs\u001b[0m\n",
      "\u001b[34mcalculating number of samples to take from each half\u001b[0m\n",
      "\u001b[34mconverting both half to integers\u001b[0m\n",
      "\u001b[34mselecting samples for training\u001b[0m\n",
      "\u001b[34mall files in cwd inside opt/program ['.ipynb_checkpoints', '__pycache__', 'model', 'output', 'output.xlsx', 'serve', 'synth_q.py', 'test.py', 'train']\u001b[0m\n",
      "\u001b[34mconcating both half as train and val\u001b[0m\n",
      "\u001b[34mconverting df to csv in prepare data function\u001b[0m\n",
      "\u001b[34minitializing queries , corpus and docs\u001b[0m\n",
      "\u001b[34minitializing queries corpus and docs\u001b[0m\n",
      "\u001b[34mtrain dataset created\u001b[0m\n",
      "\u001b[34mdata prepared in prepared_data function\u001b[0m\n",
      "\u001b[34mthe finetuned model should be saved here /opt/ml/model\u001b[0m\n",
      "\u001b[34mCuda Available\u001b[0m\n",
      "\u001b[34m#015Epoch:   0%|          | 0/10 [00:00<?, ?it/s]\u001b[0m\n",
      "\u001b[34m#015Iteration:   0%|          | 0/3 [00:00<?, ?it/s]#033[A\u001b[0m\n",
      "\u001b[34m#015Iteration:  33%|███▎      | 1/3 [00:01<00:03,  1.50s/it]#033[A\u001b[0m\n",
      "\u001b[34m#015Iteration:  67%|██████▋   | 2/3 [00:02<00:01,  1.04s/it]#033[A\u001b[0m\n",
      "\u001b[34m#015Iteration: 100%|██████████| 3/3 [00:02<00:00,  1.05it/s]#033[A#015Iteration: 100%|██████████| 3/3 [00:02<00:00,  1.04it/s]\u001b[0m\n",
      "\u001b[34m#015Epoch:  10%|█         | 1/10 [00:04<00:36,  4.07s/it]\u001b[0m\n",
      "\u001b[34m#015Iteration:   0%|          | 0/3 [00:00<?, ?it/s]#033[A\u001b[0m\n",
      "\u001b[34m#015Iteration:  33%|███▎      | 1/3 [00:00<00:01,  1.73it/s]#033[A\u001b[0m\n",
      "\u001b[34m#015Iteration:  67%|██████▋   | 2/3 [00:01<00:00,  1.34it/s]#033[A\u001b[0m\n",
      "\u001b[34m#015Iteration: 100%|██████████| 3/3 [00:02<00:00,  1.32it/s]#033[A#015Iteration: 100%|██████████| 3/3 [00:02<00:00,  1.33it/s]\u001b[0m\n",
      "\u001b[34m#015Epoch:  20%|██        | 2/10 [00:06<00:25,  3.21s/it]\u001b[0m\n",
      "\u001b[34m#015Iteration:   0%|          | 0/3 [00:00<?, ?it/s]#033[A\u001b[0m\n",
      "\u001b[34m#015Iteration:  33%|███▎      | 1/3 [00:00<00:01,  1.69it/s]#033[A\u001b[0m\n",
      "\u001b[34m#015Iteration:  67%|██████▋   | 2/3 [00:01<00:00,  1.33it/s]#033[A\u001b[0m\n",
      "\u001b[34m#015Iteration: 100%|██████████| 3/3 [00:02<00:00,  1.31it/s]#033[A#015Iteration: 100%|██████████| 3/3 [00:02<00:00,  1.32it/s]\u001b[0m\n",
      "\u001b[34m#015Epoch:  30%|███       | 3/10 [00:09<00:20,  2.94s/it]\u001b[0m\n",
      "\u001b[34m#015Iteration:   0%|          | 0/3 [00:00<?, ?it/s]#033[A\u001b[0m\n",
      "\u001b[34m#015Iteration:  33%|███▎      | 1/3 [00:00<00:01,  1.70it/s]#033[A\u001b[0m\n",
      "\u001b[34m#015Iteration:  67%|██████▋   | 2/3 [00:01<00:00,  1.32it/s]#033[A\u001b[0m\n",
      "\u001b[34m#015Iteration: 100%|██████████| 3/3 [00:02<00:00,  1.30it/s]#033[A#015Iteration: 100%|██████████| 3/3 [00:02<00:00,  1.31it/s]\u001b[0m\n",
      "\u001b[34m#015Epoch:  40%|████      | 4/10 [00:11<00:16,  2.82s/it]\u001b[0m\n",
      "\u001b[34m#015Iteration:   0%|          | 0/3 [00:00<?, ?it/s]#033[A\u001b[0m\n",
      "\u001b[34m#015Iteration:  33%|███▎      | 1/3 [00:00<00:01,  1.69it/s]#033[A\u001b[0m\n",
      "\u001b[34m#015Iteration:  67%|██████▋   | 2/3 [00:01<00:00,  1.32it/s]#033[A\u001b[0m\n",
      "\u001b[34m#015Iteration: 100%|██████████| 3/3 [00:02<00:00,  1.30it/s]#033[A#015Iteration: 100%|██████████| 3/3 [00:02<00:00,  1.30it/s]\u001b[0m\n",
      "\u001b[34m#015Epoch:  50%|█████     | 5/10 [00:14<00:13,  2.75s/it]\u001b[0m\n",
      "\u001b[34m#015Iteration:   0%|          | 0/3 [00:00<?, ?it/s]#033[A\u001b[0m\n",
      "\u001b[34m#015Iteration:  33%|███▎      | 1/3 [00:00<00:01,  1.69it/s]#033[A\u001b[0m\n",
      "\u001b[34m#015Iteration:  67%|██████▋   | 2/3 [00:01<00:00,  1.32it/s]#033[A\u001b[0m\n",
      "\u001b[34m#015Iteration: 100%|██████████| 3/3 [00:02<00:00,  1.30it/s]#033[A#015Iteration: 100%|██████████| 3/3 [00:02<00:00,  1.30it/s]\u001b[0m\n",
      "\u001b[34m#015Epoch:  60%|██████    | 6/10 [00:17<00:10,  2.72s/it]\u001b[0m\n",
      "\u001b[34m#015Iteration:   0%|          | 0/3 [00:00<?, ?it/s]#033[A\u001b[0m\n",
      "\u001b[34m#015Iteration:  33%|███▎      | 1/3 [00:00<00:01,  1.69it/s]#033[A\u001b[0m\n",
      "\u001b[34m#015Iteration:  67%|██████▋   | 2/3 [00:01<00:00,  1.32it/s]#033[A\u001b[0m\n",
      "\u001b[34m#015Iteration: 100%|██████████| 3/3 [00:02<00:00,  1.30it/s]#033[A#015Iteration: 100%|██████████| 3/3 [00:02<00:00,  1.31it/s]\u001b[0m\n",
      "\u001b[34m#015Epoch:  70%|███████   | 7/10 [00:19<00:08,  2.69s/it]\u001b[0m\n",
      "\u001b[34m#015Iteration:   0%|          | 0/3 [00:00<?, ?it/s]#033[A\u001b[0m\n",
      "\u001b[34m#015Iteration:  33%|███▎      | 1/3 [00:00<00:01,  1.68it/s]#033[A\u001b[0m\n",
      "\u001b[34m#015Iteration:  67%|██████▋   | 2/3 [00:01<00:00,  1.31it/s]#033[A\u001b[0m\n",
      "\u001b[34m#015Iteration: 100%|██████████| 3/3 [00:02<00:00,  1.29it/s]#033[A#015Iteration: 100%|██████████| 3/3 [00:02<00:00,  1.30it/s]\u001b[0m\n",
      "\u001b[34m#015Epoch:  80%|████████  | 8/10 [00:22<00:05,  2.68s/it]\u001b[0m\n",
      "\u001b[34m#015Iteration:   0%|          | 0/3 [00:00<?, ?it/s]#033[A\u001b[0m\n",
      "\u001b[34m#015Iteration:  33%|███▎      | 1/3 [00:00<00:01,  1.67it/s]#033[A\u001b[0m\n",
      "\u001b[34m#015Iteration:  67%|██████▋   | 2/3 [00:01<00:00,  1.31it/s]#033[A\u001b[0m\n",
      "\u001b[34m#015Iteration: 100%|██████████| 3/3 [00:02<00:00,  1.29it/s]#033[A#015Iteration: 100%|██████████| 3/3 [00:02<00:00,  1.30it/s]\u001b[0m\n",
      "\u001b[34m#015Epoch:  90%|█████████ | 9/10 [00:25<00:02,  2.67s/it]\u001b[0m\n",
      "\u001b[34m#015Iteration:   0%|          | 0/3 [00:00<?, ?it/s]#033[A\u001b[0m\n",
      "\u001b[34m#015Iteration:  33%|███▎      | 1/3 [00:00<00:01,  1.67it/s]#033[A\u001b[0m\n",
      "\u001b[34m#015Iteration:  67%|██████▋   | 2/3 [00:01<00:00,  1.31it/s]#033[A\u001b[0m\n",
      "\u001b[34m#015Iteration: 100%|██████████| 3/3 [00:02<00:00,  1.29it/s]#033[A#015Iteration: 100%|██████████| 3/3 [00:02<00:00,  1.30it/s]\u001b[0m\n",
      "\u001b[34m#015Epoch: 100%|██████████| 10/10 [00:27<00:00,  2.67s/it]#015Epoch: 100%|██████████| 10/10 [00:27<00:00,  2.78s/it]\u001b[0m\n",
      "\u001b[34mall files inside model after training ['modules.json', 'vocab.txt', 'tokenizer_config.json', '1_Pooling', 'tokenizer.json', 'model.safetensors', 'sentence_bert_config.json', 'eval', 'special_tokens_map.json', '2_Normalize', 'config.json', 'README.md', 'config_sentence_transformers.json']\u001b[0m\n",
      "\u001b[34mbase model path local:/opt/program/model/bge-base-en\u001b[0m\n",
      "\u001b[34m/opt/program/train:227: DeprecationWarning: Call to deprecated function (or staticmethod) from_defaults. (ServiceContext is deprecated, please use `llama_index.settings.Settings` instead.) -- Deprecated since version 0.10.0.\n",
      "  service_context = ServiceContext.from_defaults(llm=None,\u001b[0m\n",
      "\u001b[34mLLM is explicitly disabled. Using MockLLM.\u001b[0m\n",
      "\n",
      "2024-07-10 07:48:57 Uploading - Uploading generated training model\u001b[34m#015Generating embeddings:   0%|          | 0/4 [00:00<?, ?it/s]#015Generating embeddings: 100%|██████████| 4/4 [00:00<00:00, 38.01it/s]#015Generating embeddings: 100%|██████████| 4/4 [00:00<00:00, 37.94it/s]\n",
      "  0%|          | 0/4 [00:00<?, ?it/s]\u001b[0m\n",
      "\u001b[34mfinetuned model path after training local:/opt/ml/model\u001b[0m\n",
      "\u001b[34mLLM is explicitly disabled. Using MockLLM.\u001b[0m\n",
      "\u001b[34m#015Generating embeddings:   0%|          | 0/4 [00:00<?, ?it/s]#015Generating embeddings: 100%|██████████| 4/4 [00:00<00:00, 36.99it/s]#015Generating embeddings: 100%|██████████| 4/4 [00:00<00:00, 36.92it/s]\n",
      "  0%|          | 0/4 [00:00<?, ?it/s]\u001b[0m\n",
      "\u001b[34m/opt/program/train:271: DeprecationWarning: Call to deprecated function (or staticmethod) from_defaults. (ServiceContext is deprecated, please use `llama_index.settings.Settings` instead.) -- Deprecated since version 0.10.0.\n",
      "  service_context = ServiceContext.from_defaults(llm=None,\u001b[0m\n",
      "\u001b[34mLLM is explicitly disabled. Using MockLLM.\u001b[0m\n",
      "\u001b[34m#015Generating embeddings:   0%|          | 0/4 [00:00<?, ?it/s]#015Generating embeddings: 100%|██████████| 4/4 [00:00<00:00, 38.64it/s]#015Generating embeddings: 100%|██████████| 4/4 [00:00<00:00, 38.56it/s]\u001b[0m\n",
      "\u001b[34mLLM is explicitly disabled. Using MockLLM.\u001b[0m\n",
      "\u001b[34m#015Generating embeddings:   0%|          | 0/4 [00:00<?, ?it/s]#015Generating embeddings: 100%|██████████| 4/4 [00:00<00:00, 36.54it/s]#015Generating embeddings: 100%|██████████| 4/4 [00:00<00:00, 36.48it/s]\u001b[0m\n",
      "\u001b[34mfinetuned model path pre defined /opt/ml/model\u001b[0m\n",
      "\u001b[34m/opt/program/train:371: DeprecationWarning: Call to deprecated function (or staticmethod) from_defaults. (ServiceContext is deprecated, please use `llama_index.settings.Settings` instead.) -- Deprecated since version 0.10.0.\n",
      "  service_context = ServiceContext.from_defaults(llm=None,\u001b[0m\n",
      "\u001b[34mLLM is explicitly disabled. Using MockLLM.\u001b[0m\n",
      "\u001b[34m#015Generating embeddings:   0%|          | 0/4 [00:00<?, ?it/s]#015Generating embeddings: 100%|██████████| 4/4 [00:00<00:00, 37.25it/s]#015Generating embeddings: 100%|██████████| 4/4 [00:00<00:00, 37.18it/s]\n",
      "  0%|          | 0/4 [00:00<?, ?it/s]\u001b[0m\n",
      "\u001b[34mLLM is explicitly disabled. Using MockLLM.\u001b[0m\n",
      "\u001b[34m#015Generating embeddings:   0%|          | 0/4 [00:00<?, ?it/s]#015Generating embeddings: 100%|██████████| 4/4 [00:00<00:00, 36.10it/s]#015Generating embeddings: 100%|██████████| 4/4 [00:00<00:00, 36.03it/s]\n",
      "  0%|          | 0/4 [00:00<?, ?it/s]\u001b[0m\n",
      "\u001b[34mhit rate before finetuning: 0.25\u001b[0m\n",
      "\u001b[34mhit rate after finetuning: 0.25\u001b[0m\n",
      "\u001b[34mAverage distance before finetuning: 0.60572165\u001b[0m\n",
      "\u001b[34mAverage distance after finetuning: 0.60008556\u001b[0m\n",
      "\u001b[34mall files inside opt/program after outptu.zip saved ['.ipynb_checkpoints', '__pycache__', 'model', 'output', 'output.xlsx', 'serve', 'synth_q.py', 'test.py', 'train']\u001b[0m\n",
      "\u001b[34mTraining complete.\u001b[0m\n",
      "\u001b[34mtraining complete\u001b[0m\n",
      "\n",
      "2024-07-10 07:49:26 Completed - Training job completed\n",
      "Training seconds: 214\n",
      "Billable seconds: 214\n"
     ]
    }
   ],
   "source": [
    "#Create an estimator object for running a training job\n",
    "estimator = sage.algorithm.AlgorithmEstimator(\n",
    "    algorithm_arn=algo_arn,\n",
    "    base_job_name=\"task-tuned-embedding-for-search-algo\",\n",
    "    role=role,\n",
    "    train_instance_count=1,\n",
    "    train_instance_type=training_instance_type,\n",
    "    input_mode=\"File\",\n",
    "    output_path=output_location,\n",
    "    sagemaker_session=sagemaker_session,\n",
    "    instance_count=1,\n",
    "    instance_type=training_instance_type\n",
    ")\n",
    "\n",
    "#Run the training job.\n",
    "estimator.fit({\"training\": training_input})"
   ]
  },
  {
   "cell_type": "markdown",
   "id": "7da3c9ed",
   "metadata": {},
   "source": [
    "See this [blog-post](https://aws.amazon.com/blogs/machine-learning/easily-monitor-and-visualize-metrics-while-training-models-on-amazon-sagemaker/) for more information how to visualize metrics during the process. You can also open the training job from [Amazon SageMaker console](https://console.aws.amazon.com/sagemaker/home?#/jobs/) and monitor the metrics/logs in **Monitor** section."
   ]
  },
  {
   "cell_type": "code",
   "execution_count": 32,
   "id": "6b33cb26",
   "metadata": {},
   "outputs": [
    {
     "data": {
      "text/plain": [
       "'s3://sagemaker-us-east-2-786796469737/task-tuned-embedding-for-search/Output'"
      ]
     },
     "execution_count": 32,
     "metadata": {},
     "output_type": "execute_result"
    }
   ],
   "source": [
    "#output is available on following path\n",
    "estimator.output_path"
   ]
  },
  {
   "cell_type": "markdown",
   "id": "f7657418",
   "metadata": {},
   "source": [
    "### 3.3 Inspect the Output in S3"
   ]
  },
  {
   "cell_type": "code",
   "execution_count": 33,
   "id": "173358b1",
   "metadata": {},
   "outputs": [],
   "source": [
    "parsed_url = urlparse(estimator.output_path)\n",
    "bucket_name = parsed_url.netloc\n",
    "file_key = parsed_url.path[1:]+'/'+estimator.latest_training_job.job_name+'/output/'+\"model.tar.gz\"\n",
    "\n",
    "s3_client = sagemaker_session.boto_session.client('s3')\n",
    "response = s3_client.get_object(Bucket = sagemaker_session.default_bucket(), Key = file_key)"
   ]
  },
  {
   "cell_type": "code",
   "execution_count": 34,
   "id": "0e865cce",
   "metadata": {},
   "outputs": [],
   "source": [
    "bucketFolder = estimator.output_path.rsplit('/')[3] +'/Output/'+ estimator.latest_training_job.job_name+'/output/'+\"model.tar.gz\""
   ]
  },
  {
   "cell_type": "code",
   "execution_count": 35,
   "id": "f4e6a887",
   "metadata": {},
   "outputs": [
    {
     "name": "stderr",
     "output_type": "stream",
     "text": [
      "/home/ec2-user/anaconda3/envs/python3/lib/python3.6/site-packages/boto3/compat.py:88: PythonDeprecationWarning: Boto3 will no longer support Python 3.6 starting May 30, 2022. To continue receiving service updates, bug fixes, and security updates please upgrade to Python 3.7 or later. More information can be found here: https://aws.amazon.com/blogs/developer/python-support-policy-updates-for-aws-sdks-and-tools/\n",
      "  warnings.warn(warning, PythonDeprecationWarning)\n"
     ]
    },
    {
     "name": "stdout",
     "output_type": "stream",
     "text": [
      "Output file loaded from bucket\n"
     ]
    }
   ],
   "source": [
    "s3_conn = boto3.client(\"s3\")\n",
    "bucket_name=bucket\n",
    "with open('output.tar.gz', 'wb') as f:\n",
    "    s3_conn.download_fileobj(bucket_name, bucketFolder, f)\n",
    "    print(\"Output file loaded from bucket\")"
   ]
  },
  {
   "cell_type": "code",
   "execution_count": 36,
   "id": "44281dff",
   "metadata": {},
   "outputs": [],
   "source": [
    "with tarfile.open('output.tar.gz') as file:\n",
    "    file.extractall('./output')"
   ]
  },
  {
   "cell_type": "markdown",
   "id": "6a1ae539",
   "metadata": {},
   "source": [
    "### 4: Deploy model and verify results"
   ]
  },
  {
   "cell_type": "markdown",
   "id": "9ec80e2f",
   "metadata": {},
   "source": [
    "Now you can deploy the model for performing real-time inference."
   ]
  },
  {
   "cell_type": "code",
   "execution_count": 37,
   "id": "929ce6de",
   "metadata": {},
   "outputs": [
    {
     "data": {
      "text/plain": [
       "'sagemaker-us-east-2-786796469737'"
      ]
     },
     "execution_count": 37,
     "metadata": {},
     "output_type": "execute_result"
    }
   ],
   "source": [
    "role = get_execution_role()\n",
    "\n",
    "sagemaker_session = sage.Session()\n",
    "\n",
    "bucket=sagemaker_session.default_bucket()\n",
    "bucket"
   ]
  },
  {
   "cell_type": "code",
   "execution_count": 38,
   "id": "686d963d",
   "metadata": {},
   "outputs": [],
   "source": [
    "model_name='marketplace-task-tune-embeddings'\n",
    "\n",
    "content_type='application/zip'\n",
    "\n",
    "real_time_inference_instance_type='ml.p3.2xlarge'\n",
    "batch_transform_inference_instance_type='ml.p3.2xlarge'"
   ]
  },
  {
   "cell_type": "markdown",
   "id": "43ea404f",
   "metadata": {},
   "source": [
    "#### A. Deploy trained model"
   ]
  },
  {
   "cell_type": "code",
   "execution_count": 39,
   "id": "bf58594b",
   "metadata": {
    "scrolled": true
   },
   "outputs": [
    {
     "name": "stdout",
     "output_type": "stream",
     "text": [
      "..........\n",
      "-----------!"
     ]
    }
   ],
   "source": [
    "from sagemaker.predictor import csv_serializer\n",
    "predictor = estimator.deploy(1, real_time_inference_instance_type)"
   ]
  },
  {
   "cell_type": "markdown",
   "id": "9b2427ad",
   "metadata": {},
   "source": [
    "Once endpoint is created, you can perform real-time inference."
   ]
  },
  {
   "cell_type": "markdown",
   "id": "149eb893",
   "metadata": {},
   "source": [
    "#### B. Create input payload"
   ]
  },
  {
   "cell_type": "code",
   "execution_count": 40,
   "id": "00a02080",
   "metadata": {},
   "outputs": [],
   "source": [
    "file_name = 'inference/Input.zip'"
   ]
  },
  {
   "cell_type": "markdown",
   "id": "f68e6cc6",
   "metadata": {},
   "source": [
    "#### C. Perform real-time inference"
   ]
  },
  {
   "cell_type": "code",
   "execution_count": 41,
   "id": "b49f8d28",
   "metadata": {},
   "outputs": [],
   "source": [
    "output_file_name = 'inf_output.zip'"
   ]
  },
  {
   "cell_type": "code",
   "execution_count": 42,
   "id": "5a10155e",
   "metadata": {},
   "outputs": [
    {
     "name": "stdout",
     "output_type": "stream",
     "text": [
      "{\r\n",
      "    \"ContentType\": \"application/zip\",\r\n",
      "    \"InvokedProductionVariant\": \"AllTraffic\"\r\n",
      "}\r\n"
     ]
    }
   ],
   "source": [
    "!aws sagemaker-runtime invoke-endpoint \\\n",
    "    --endpoint-name $predictor.endpoint_name \\\n",
    "    --body fileb://$file_name \\\n",
    "    --content-type $content_type \\\n",
    "    --region $sagemaker_session.boto_region_name \\\n",
    "    $output_file_name"
   ]
  },
  {
   "cell_type": "markdown",
   "id": "1dfe1d1a",
   "metadata": {},
   "source": [
    "#### D. Check output"
   ]
  },
  {
   "cell_type": "code",
   "execution_count": 48,
   "id": "66bb8b85",
   "metadata": {},
   "outputs": [
    {
     "data": {
      "text/html": [
       "<div>\n",
       "<style scoped>\n",
       "    .dataframe tbody tr th:only-of-type {\n",
       "        vertical-align: middle;\n",
       "    }\n",
       "\n",
       "    .dataframe tbody tr th {\n",
       "        vertical-align: top;\n",
       "    }\n",
       "\n",
       "    .dataframe thead th {\n",
       "        text-align: right;\n",
       "    }\n",
       "</style>\n",
       "<table border=\"1\" class=\"dataframe\">\n",
       "  <thead>\n",
       "    <tr style=\"text-align: right;\">\n",
       "      <th></th>\n",
       "      <th>text</th>\n",
       "      <th>text_embeds</th>\n",
       "    </tr>\n",
       "  </thead>\n",
       "  <tbody>\n",
       "    <tr>\n",
       "      <th>0</th>\n",
       "      <td>What are the potential consequences for the Is...</td>\n",
       "      <td>[ 2.73016058e-02 -1.58562679e-02 -3.25590968e-...</td>\n",
       "    </tr>\n",
       "    <tr>\n",
       "      <th>1</th>\n",
       "      <td>How can fluctuations in MAPCs, Trips, Adjusted...</td>\n",
       "      <td>[-1.75918860e-03 -4.99562882e-02 -3.45395990e-...</td>\n",
       "    </tr>\n",
       "    <tr>\n",
       "      <th>2</th>\n",
       "      <td>How is \"Disability\" defined in the context of ...</td>\n",
       "      <td>[-3.71765718e-02 -1.44260339e-02 -2.85149738e-...</td>\n",
       "    </tr>\n",
       "    <tr>\n",
       "      <th>3</th>\n",
       "      <td>According to the context information, what is ...</td>\n",
       "      <td>[-2.21168268e-02 -1.66630652e-02  5.34352520e-...</td>\n",
       "    </tr>\n",
       "    <tr>\n",
       "      <th>4</th>\n",
       "      <td>How can the 2025 Convertible Notes be redeemed...</td>\n",
       "      <td>[-1.70179419e-02 -5.43422848e-02  2.27773022e-...</td>\n",
       "    </tr>\n",
       "  </tbody>\n",
       "</table>\n",
       "</div>"
      ],
      "text/plain": [
       "                                                text  \\\n",
       "0  What are the potential consequences for the Is...   \n",
       "1  How can fluctuations in MAPCs, Trips, Adjusted...   \n",
       "2  How is \"Disability\" defined in the context of ...   \n",
       "3  According to the context information, what is ...   \n",
       "4  How can the 2025 Convertible Notes be redeemed...   \n",
       "\n",
       "                                         text_embeds  \n",
       "0  [ 2.73016058e-02 -1.58562679e-02 -3.25590968e-...  \n",
       "1  [-1.75918860e-03 -4.99562882e-02 -3.45395990e-...  \n",
       "2  [-3.71765718e-02 -1.44260339e-02 -2.85149738e-...  \n",
       "3  [-2.21168268e-02 -1.66630652e-02  5.34352520e-...  \n",
       "4  [-1.70179419e-02 -5.43422848e-02  2.27773022e-...  "
      ]
     },
     "execution_count": 48,
     "metadata": {},
     "output_type": "execute_result"
    }
   ],
   "source": [
    "import zipfile\n",
    "\n",
    "zip_file_path = 'inf_output.zip'\n",
    "csv_file_name = 'embeddings.csv'  \n",
    "\n",
    "with zipfile.ZipFile(zip_file_path, 'r') as zip_ref:\n",
    "    #if csv_file_name in zip_ref.namelist():\n",
    "    with zip_ref.open(csv_file_name) as csv_file:\n",
    "            df = pd.read_csv(csv_file)\n",
    "            \n",
    "        \n",
    "df.head()"
   ]
  },
  {
   "cell_type": "markdown",
   "id": "296d6a48",
   "metadata": {},
   "source": [
    "### 4. Clean-up"
   ]
  },
  {
   "cell_type": "code",
   "execution_count": 49,
   "id": "9f8a43f7",
   "metadata": {},
   "outputs": [],
   "source": [
    "#predictor=sage.predictor.Predictor(model_name, sagemaker_session,content_type)\n",
    "predictor.delete_endpoint(delete_endpoint_config=True)"
   ]
  },
  {
   "cell_type": "code",
   "execution_count": 54,
   "id": "907f83a1",
   "metadata": {},
   "outputs": [],
   "source": [
    "model.delete_model()"
   ]
  },
  {
   "cell_type": "markdown",
   "id": "dee71ec7",
   "metadata": {},
   "source": [
    "#### Unsubscribe to the listing (optional)"
   ]
  },
  {
   "cell_type": "markdown",
   "id": "459dc707",
   "metadata": {},
   "source": [
    "If you would like to unsubscribe to the algorithm, follow these steps. Before you cancel the subscription, ensure that you do not have any [deployable model](https://console.aws.amazon.com/sagemaker/home#/models) created from the model package or using the algorithm. Note - You can find this information by looking at the container name associated with the model. \n",
    "\n",
    "**Steps to unsubscribe to product from AWS Marketplace**:\n",
    "1. Navigate to __Machine Learning__ tab on [__Your Software subscriptions page__](https://aws.amazon.com/marketplace/ai/library?productType=ml&ref_=mlmp_gitdemo_indust)\n",
    "2. Locate the listing that you want to cancel the subscription for, and then choose __Cancel Subscription__  to cancel the subscription."
   ]
  },
  {
   "cell_type": "code",
   "execution_count": null,
   "id": "8d31464b",
   "metadata": {},
   "outputs": [],
   "source": []
  }
 ],
 "metadata": {
  "kernelspec": {
   "display_name": "conda_python3",
   "language": "python",
   "name": "conda_python3"
  },
  "language_info": {
   "codemirror_mode": {
    "name": "ipython",
    "version": 3
   },
   "file_extension": ".py",
   "mimetype": "text/x-python",
   "name": "python",
   "nbconvert_exporter": "python",
   "pygments_lexer": "ipython3",
   "version": "3.6.13"
  }
 },
 "nbformat": 4,
 "nbformat_minor": 5
}
